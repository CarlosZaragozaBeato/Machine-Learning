{
 "cells": [
  {
   "cell_type": "code",
   "execution_count": null,
   "id": "0efafafe-6fb4-46c7-bc97-da03228d7f59",
   "metadata": {},
   "outputs": [],
   "source": []
  }
 ],
 "metadata": {
  "kernelspec": {
   "display_name": "Python 3 (ipykernel)",
   "language": "python",
   "name": "python3"
  },
  "language_info": {
   "name": ""
  }
 },
 "nbformat": 4,
 "nbformat_minor": 5
}
