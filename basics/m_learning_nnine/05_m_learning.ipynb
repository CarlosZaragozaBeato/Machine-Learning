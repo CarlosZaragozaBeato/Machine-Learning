{
 "cells": [
  {
   "cell_type": "code",
   "execution_count": null,
   "metadata": {},
   "outputs": [],
   "source": []
  }
 ],
 "metadata": {
  "kernelspec": {
   "display_name": "carlos_zaragoza",
   "language": "python",
   "name": "python3"
  },
  "language_info": {
   "name": "python",
   "version": "3.7.15 (default, Nov 24 2022, 18:44:54) [MSC v.1916 64 bit (AMD64)]"
  },
  "orig_nbformat": 4,
  "vscode": {
   "interpreter": {
    "hash": "b0616232e8b22e256bf17c2f8d850fd06efbe19eef8e6dd172f7adb4538b305c"
   }
  }
 },
 "nbformat": 4,
 "nbformat_minor": 2
}
