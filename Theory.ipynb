{
 "cells": [
  {
   "attachments": {},
   "cell_type": "markdown",
   "metadata": {},
   "source": [
    "# Linear Regression"
   ]
  },
  {
   "attachments": {},
   "cell_type": "markdown",
   "metadata": {},
   "source": [
    "### Spanish Theory"
   ]
  },
  {
   "attachments": {},
   "cell_type": "markdown",
   "metadata": {},
   "source": [
    "La Regresión Lineal o linear regression es una técnica paramétrica utilizada para predecir variables continuas, dependientes, dado un conjunto de variables independientes.\n",
    "\n",
    "Explicado de manera más sencilla, la Regresión Lineal es un método para predecir la variable dependiente (y) en función de los valores de las variables independientes (X).\n"
   ]
  },
  {
   "attachments": {},
   "cell_type": "markdown",
   "metadata": {},
   "source": [
    "#### Variables independientes y dependientes"
   ]
  },
  {
   "attachments": {},
   "cell_type": "markdown",
   "metadata": {},
   "source": [
    "* Las variables independientes o características, son variables que se manipulan para determinar el valor de una variable dependiente. Simplemente, son las características que queremos usar para predecir algún valor dado de y. Normalmente en Machine Learning vienen declarado como X.\n",
    "\n",
    "* Por otra parte la variable dependiente u objetivo, depende de los valores de la variable independiente. En pocas palabras, es la característica que estamos tratando de predecir. Esto también se puede conocer comúnmente como una variable de respuesta. En Machine Learning esta variable esta de"
   ]
  },
  {
   "attachments": {},
   "cell_type": "markdown",
   "metadata": {},
   "source": [
    "#### Representación matemática de la regresión"
   ]
  },
  {
   "attachments": {},
   "cell_type": "markdown",
   "metadata": {},
   "source": [
    "La Regresión Lineal puede ser simple o múltiple, la primera se refiere cuando solamente tenemos una sola variable independiente para realizar la predicción, en cambio en la Regresión Lineal Múltiple se manejan múltiples variables independientes que contribuyen a la variable dependiente.\n",
    "\n",
    "Matemáticamente, la Regresión Lineal Simple usa una función lineal para aproximar o predecir la variable dependiente dada como:\n",
    "\n",
    "#### y = ax + b"
   ]
  },
  {
   "attachments": {},
   "cell_type": "markdown",
   "metadata": {},
   "source": [
    "Donde:\n",
    "\n",
    "* y – es la variable dependiente o la variable a predecir.\n",
    "\n",
    "* x – es la variable independiente o la variable que usamos para hacer una predicción.\n",
    "\n",
    "* a – es la pendiente o el valor que debe ser determinado, se le conoce como coeficiente y es una especie de magnitud de cambio que pasa \n",
    " por y cuando x cambia.\n",
    "\n",
    "* b – es la constante que debe ser determinada, se le conoce como intercepto porque cuando x es igual a 0, entonces y = b.\n",
    "\n"
   ]
  },
  {
   "attachments": {},
   "cell_type": "markdown",
   "metadata": {},
   "source": [
    "Como puedes observar en la fórmula, solo hay una variable independiente involucrada, que vendría siendo “x”.\n",
    "\n",
    "Por su parte, la ecuación de la Regresión Lineal Múltiple es la siguiente:\n",
    "\n",
    "#### y =  a¹x¹ + a²x²+aⁿxⁿ+b\n",
    "\n",
    "* y - es la variable dependiente o la variable a predecir\n",
    "* b - es la constante que debe se determinada, se le conoce como interceptop porque cuando x es igual a 0, entonces y = b."
   ]
  },
  {
   "attachments": {},
   "cell_type": "markdown",
   "metadata": {},
   "source": [
    "### Objetivos de la Regresión Lineal"
   ]
  },
  {
   "attachments": {},
   "cell_type": "markdown",
   "metadata": {},
   "source": [
    "El objetivo con Regresión Lineal Simple es minimizar la distancia vertical entre todos los datos y nuestra línea, por lo tanto, para determinar la mejor línea, debemos minimizar la distancia entre todos los puntos y la distancia de nuestra línea.  Existen muchos métodos para cumplir con este objetivo, pero todos estos métodos tienen un solo objetivo que es el de minimizar la distancia.\n",
    "\n",
    "Una forma en que el modelo de regresión encuentre la mejor línea de ajustes es utilizando el criterio de mínimos cuadrados para reducir el error.\n",
    "\n",
    "El error es una parte inevitable del proceso de predicción, no importa cuán poderoso sea el algoritmo que elijamos, siempre habrá un error irreductible, por lo que es imposible que un modelo nos arroje una precisión de 100%, ya que si es así tenemos un error.\n",
    "Sabemos que no podemos eliminar por completo el error, pero aún podemos intentar reducirlo al nivel más bajo. Justamente es en este momento en que se usa la técnica conocida como mínimos cuadrados.\n",
    "\n",
    "La técnica de mínimos cuadrado intenta reducir la suma de los errores al cuadrado, buscando el mejor valor posible de los coeficientes de regresión.\n",
    "\n",
    "Los mínimos cuadrados no es la única técnica para usar en Regresión Lineal pero se selecciona debido:\n",
    "\n",
    "* Utiliza un error cuadrado que tiene buenas propiedades matemáticas, por lo que es más fácil diferenciar y calcular el descenso del gradiente.\n",
    "* Es fácil de analizar y computacionalmente más rápido, es decir, puede aplicarse rápidamente a conjuntos de datos que tienen miles de características.\n",
    "* La interpretación es mucho más fácil que otras técnicas de regresión\n",
    "\n",
    "Se nos da un conjunto de datos con 100 observaciones y 2 variables, altura y peso. Necesitamos predecir el peso dada la altura.  La ecuación sería el de Regresión Lineal simple ya que solamente cuenta con una variable independiente y se puede escribir de la siguiente forma:\n",
    "\n",
    "### y = ax + b\n",
    "\n",
    "Donde:\n",
    "\n",
    "* y – es el peso\n",
    "\n",
    "* x – es la altura\n",
    "\n",
    "* a, b son los coeficientes a ser calculados\n",
    "\n",
    "\n"
   ]
  },
  {
   "attachments": {},
   "cell_type": "markdown",
   "metadata": {},
   "source": [
    "### Suposiciones sobre la Regresión Lineal\n",
    "\n",
    "\n",
    "Para ajustar una línea de regresión lineal, los datos deben satisfacer algunas suposiciones básicas pero importantes, si tus datos no siguen los suposiciones, sus resultados pueden ser incorrectos y engañosos.\n",
    "\n",
    "Veamos algunas de estas suposiciones:\n",
    "\n",
    "\n",
    "* Linealidad y aditivo. Debe existir una relación lineal, los datos deben satisfacer algunas suposiciones básicas pero importantes. Por lineal, significa que un cambio en la variable dependiente por 1 cambio de unidad en la variable independiente es constante. Por aditivo, se refiere al efecto de “x” y “y” son independientes de otras variables. Si los datos no siguen las suposiciones, los resultados pueden ser incorrectos y engañosos.\n",
    "\n",
    "* Suposición lineal. La regresión lineal supone que la relación entre la entrada y salida es lineal. No es compatible con nada más. Esto puede ser obvio, pero es bueno recordar cuando tenemos muchos atributos.\n",
    "\n",
    "* Eliminar el ruido. La regresión lineal asume que sus variables de entrada y salida no son ruidosas. Considera usar operaciones de limpieza de datos que permitan exponer mejor y aclarar la señal en los datos. La presencia de correlación en términos de error se conoce como autocorrelación y afecta de manera drástica los coeficientes de regresión y los valores de error estándar, ya que se basan en la suposición de los términos de error no correlacionados.\n",
    "\n",
    "* Eliminar la colinealidad. La regresión lineal se ajustará demasiado a los datos cuando tenga variables de entrada altamente correlacionadas. Considera calcular correlaciones por pares para sus datos de entrada y eliminar los más correlacionados. La presencia de correlación en términos de error se conoce como autocorrelación y afecta de manera drástica los coeficientes de regresión y los valores de error estándar, ya que se basan en la suposición de los términos de error no correlacionados.\n",
    "\n",
    "* Distribuciones gaussianas. La regresión lineal hará predicciones más confiables si sus variables de entrada y salida tienen una distribución normal. Podemos obtener algún beneficio utilizando transformaciones en sus variables para hacer que su distribución tenga un aspecto más gaussiano.\n",
    "\n",
    "\n",
    "La presencia de estos supuestos hace que la regresión sea bastante restrictiva, es decir el rendimiento de un modelo de regresión está condicionado al cumplimiento de estas suposiciones.\n",
    "\n",
    "Una vez que se violan estas suposiciones, la regresión hace predicciones tendenciosas y erráticas por lo que se debe tener en cuenta cuando se esté trabajando con este algoritmo.\n",
    "\n"
   ]
  },
  {
   "attachments": {},
   "cell_type": "markdown",
   "metadata": {},
   "source": [
    "#### Selección de las variables \n",
    "\n",
    "Un punto importante a destacar es que generalmente, cuando se trata de Regresión Lineal múltiple no incluimos todas las variables independientes a la vez y posteriormente comenzamos a minimizar la función de error. Lo primero que se debe hacer es enfocarse en seleccionar las mejores variables independientes que puedan contribuir a la variable dependiente. Para esto, debemos construir una matriz de correlación para todas las variables independiente e incluimos la variable dependiente.\n",
    "\n",
    "El valor de correlación nos da una idea de qué variable es significativa y por qué factor. A partir de esta matriz, elegimos las variables independientes en orden decreciente de valor de correlación y ejecutamos el modelo de regresión para estimar los coeficientes minimizando la función de error. Nos detenemos cuando no hay mejora destacada en la función de estimación mediante la inclusión de la siguiente característica independiente.\n",
    "\n",
    "Lo importante que tienes que tomar en cuenta con este método es que agregar más variables independientes no significa que la regresión sea mejor u ofrece mejores predicciones.\n",
    "La Regresión Lineal múltiple y simple tiene diferentes casos de uso, uno no es superior. En algunos casos, agregar más variables independientes puede empeorar las cosas, esto se conoce como ajuste excesivo.\n",
    "\n",
    "Por otra parte, cuando se agrega más variables independientes se crean relaciones entre ellas. Entonces, no solo las variables independientes están potencialmente relacionadas con la variable dependiente, sino que también están potencialmente relacionadas entre sí, esto se conoce como multicolinealidad. El escenario óptimo es que todas las variables independientes de correlacionen con la variable dependiente, pero no entre sí.\n",
    "\n",
    "\n"
   ]
  },
  {
   "attachments": {},
   "cell_type": "markdown",
   "metadata": {},
   "source": [
    "### English Theory"
   ]
  },
  {
   "attachments": {},
   "cell_type": "markdown",
   "metadata": {},
   "source": [
    "## WHAT IS LINEAR REGRESSION?\n",
    "\n",
    "Linear regression is a type of statistical modeling that allows you to investigate whether one thing (a variable) is dependent on others. The relationship between variables is illustrated by a trend-line which is overlaid on your data and can be used for predicting many different things.\n",
    "\n",
    "For example, you could use linear regression to determine how well a particular crop will grow based on how much it’s watered, how much milk a cow will produce based on how frequently it’s milked, or how much a house will sell for based on the number of rooms.\n",
    "\n",
    "For all of the above examples you probably already have a hunch that there’s going to be some kind of a relationship between the variables. It’s likely that more water will mean more crops, more milking will yield more milk, and more rooms in an apartment will equate to more money at sale time.\n",
    "\n",
    "By undertaking a linear regression analysis, your hunch (or hypothesis), will be supported by actual data, which is obviously what we’re all about.\n",
    "\n",
    "Once you understand the relationship between variables, you can begin to make some really powerful predictions.\n",
    "\n",
    "FYI linear regression is both a statistical model and a supervised machine learning algorithm. In the context of machine learning, the “machine” is the linear regression model and “learning” means that the linear regression model was trained on a sample of the dataset and then learned the correlations between the variables in order to be able to make future predictions."
   ]
  },
  {
   "attachments": {},
   "cell_type": "markdown",
   "metadata": {},
   "source": [
    "### Simple vs multivariate regression\n",
    "\n",
    "There are many types of regression out there, however, the term linear regression refers to the fact that the relationship between variables is linear – it follows a line.\n",
    "\n",
    "When you’re exploring the relationship between two variables, an independent variable and dependent variable (x and y), the method of regression used to interrogate this is referred to as a simple linear regression.\n",
    "\n",
    "If you’re comparing one dependent and multiple independent variables then you’re doing multiple linear regression.\n",
    "\n",
    "And if you have multiple dependent variables then you’ve got multivariate regression.\n",
    "\n",
    "\n"
   ]
  },
  {
   "attachments": {},
   "cell_type": "markdown",
   "metadata": {},
   "source": [
    "### How Linear Regression Works\n",
    "\n",
    "Before we run our analysis let’s start with the assumption that there are two types of spies: those that are really good at their jobs and those who aren’t.\n",
    "\n",
    "There are many reasons why a spy might be bad at their job – they might take unnecessary risks which gets their cover blown or they may fall in love with a double agent and then help them sneak across the Canadian border to evade capture by the authorities.\n",
    "\n",
    "You can just never know for sure.\n",
    "\n",
    "But we can use linear regression to determine which potential candidates are most likely to be the best match for the very high-stress job of being a spy. We only want to hire those who have a high probability of being good at their jobs\n",
    "\n",
    "The goal of a regression analysis is to create a trend line that best fits our data. This then allows us to investigate whether (and how) one thing (the dependent variable) depends on other things (the independent variables).\n",
    "\n",
    "Before we can begin shortlisting the best candidates, we need to look at the different attributes and determine whether there is a correlation between them. If there is, then we can use these attributes to start making some predictions. Luckily, because all potential candidates in this scenario have been through rigorous vetting, we have access to extensive data about their personal attributes such as physical fitness, personality traits, IQ, potential terrorist affiliations etc.\n",
    "\n",
    "To explore potential relationships in the data we plot the data and apply a trend line, which will tell us whether there’s a correlation between the data. Linear regression can then be used to confirm or deny the relationship between attributes.\n",
    "\n",
    "Let’s take a look at the attribute IQ.\n"
   ]
  },
  {
   "cell_type": "code",
   "execution_count": 183,
   "metadata": {},
   "outputs": [],
   "source": [
    "import numpy as np\n",
    "import matplotlib.pyplot as plt\n",
    "from sklearn.linear_model import LinearRegression\n",
    "from sklearn.model_selection import train_test_split "
   ]
  },
  {
   "cell_type": "code",
   "execution_count": 184,
   "metadata": {},
   "outputs": [],
   "source": [
    "spy_potential = np.array([40,25,40,55,78,77,89,95])\n",
    "spy_iq = np.array([4,3,2,5,8,7,9,10])"
   ]
  },
  {
   "cell_type": "code",
   "execution_count": 185,
   "metadata": {},
   "outputs": [],
   "source": [
    "model = LinearRegression()"
   ]
  },
  {
   "cell_type": "code",
   "execution_count": 186,
   "metadata": {},
   "outputs": [],
   "source": [
    "x_train, x_test, y_train, y_test = train_test_split(spy_potential, spy_iq, test_size=.35)"
   ]
  },
  {
   "cell_type": "code",
   "execution_count": 187,
   "metadata": {},
   "outputs": [
    {
     "data": {
      "text/plain": [
       "LinearRegression()"
      ]
     },
     "execution_count": 187,
     "metadata": {},
     "output_type": "execute_result"
    }
   ],
   "source": [
    "model.fit(x_train.reshape(-1,1), y_train.reshape(-1,1))"
   ]
  },
  {
   "cell_type": "code",
   "execution_count": 202,
   "metadata": {},
   "outputs": [
    {
     "data": {
      "text/plain": [
       "<matplotlib.collections.PathCollection at 0x1c2609b6288>"
      ]
     },
     "execution_count": 202,
     "metadata": {},
     "output_type": "execute_result"
    },
    {
     "data": {
      "image/png": "[encoded data removed]",
      "text/plain": [
       "<Figure size 640x480 with 1 Axes>"
      ]
     },
     "metadata": {},
     "output_type": "display_data"
    }
   ],
   "source": [
    "plt.xlim(0,105)\n",
    "plt.ylim(0,11)\n",
    "plt.xlabel(xlabel=\"SPY POTENTIAL\", fontsize=15.0)\n",
    "plt.ylabel(ylabel=\"IQ\", fontsize=15.0)\n",
    "plt.title(\"Spy\")\n",
    "plt.plot(np.linspace(0,100), model.predict(np.linspace(0,100).reshape(-1,1)), \"r\")\n",
    "plt.scatter(spy_potential.reshape(-1,1), spy_iq.reshape(-1,1))\n"
   ]
  },
  {
   "cell_type": "code",
   "execution_count": 189,
   "metadata": {},
   "outputs": [
    {
     "data": {
      "text/plain": [
       "0.9481346091539982"
      ]
     },
     "execution_count": 189,
     "metadata": {},
     "output_type": "execute_result"
    }
   ],
   "source": [
    "model.score(x_test.reshape(-1,1), y_test.reshape(-1,1))"
   ]
  },
  {
   "attachments": {},
   "cell_type": "markdown",
   "metadata": {},
   "source": [
    "We can see here that there’s a correlation between the attributes ‘spy potential’ and ‘IQ’. We can, therefore, say that candidates that are smarter are more likely to make better spies.*\n",
    "\n",
    "Once we have confirmed with regression analysis whether there’s a relationship between the various attributes, we can deploy a regression algorithm that will learn the relationship between these variables.\n",
    "\n",
    "This will ultimately allow us to predict whether a future candidate will make a good prospective spy or not.\n",
    "\n",
    "\n"
   ]
  },
  {
   "attachments": {},
   "cell_type": "markdown",
   "metadata": {},
   "source": [
    "### Linear Regression Equation\n",
    "\n",
    "The equation for simple linear regressions is, well, pretty simple:\n",
    "\n",
    "### y = b⁰ + b¹ * x¹\n",
    "\n",
    "Let’s break this equation down.\n",
    "\n",
    "* y - is the dependent variable. This is what you’re trying to explain and to understand how (in which way) it depends on something else. In this example, our dependent variable would be spy potential.\n",
    "\n",
    "* x - is the independent variable. We assume that this is causing the dependent variable to change in some way. This might not be a direct cause, but it implies an association between the variables and we obviously want to know more about that. So in our spy example, the independent variable could be something like IQ or physical fitness.\n",
    "\n",
    "* b1 - is what’s known as the coefficient for the independent variable. This is a fancy way of expressing how a unit change in x (higher IQ, for example) affects a unit change in y (more spy potential). This also controls the angle or slope of the line, so the steeper the line, the higher your spy potential becomes per extra IQ point and the shallower the slope/gradient, the less spy potential a candidate receives per additional IQ point.\n",
    "\n",
    "* b0 - is the constant term, or point where your trendline crosses the horizontal axis.\n",
    "\n",
    "If you have multiple variables the equation looks almost the same, except you add more independent variables into the mix:\n",
    "\n",
    "\n",
    "### y = b0 + b1 * x1  + b2 * x2  + …  + bn * xn \n",
    "\n",
    "For each additional independent variable that you’re looking to find a relationship for you add an extra coefficient (b) and independent variable (x) to your formula.\n"
   ]
  },
  {
   "attachments": {},
   "cell_type": "markdown",
   "metadata": {},
   "source": [
    "### When to use Linear Regression\n",
    "\n",
    "Linear regression’s power is in its simplicity, which means it can be used to answer all types of questions. If you are planning to use a linear regression algorithm there are a few conditions that your data should meet.\n",
    "\n",
    "First, the relationship between the variables in your data needs to be linear. This means that they can be plotted along a line. Once plotted, the difference between the real and predicted values (residuals) needs to be more or less constant (homoscedastic).\n",
    "\n",
    "At the same time, the residuals must be independent of each other and the predictors (independent variables) should not be highly correlated.\n",
    "\n",
    "You can determine whether your data meets these conditions by plotting it and then doing a bit of digging into its structure.\n"
   ]
  },
  {
   "attachments": {},
   "cell_type": "markdown",
   "metadata": {},
   "source": [
    "#### Agriculture: Predicting milk production\n",
    "* https://dhicoop.com/dairymetrics.html\n",
    "\n",
    "### Labor: Calculating the effects of specific labor laws on a family in the USA.\n",
    "* https://www1.aucegypt.edu/faculty/hadi/RABE5/#Download\n",
    "\n",
    "### Government: Determining the impact of domestic immigration.\n",
    "* https://www1.aucegypt.edu/faculty/hadi/RABE5/#Download\n",
    "\n",
    "### Archeology: Estimating the age of ancient Egyptian skulls.\n",
    "* https://www1.aucegypt.edu/faculty/hadi/RABE5/#Download\n",
    "\n",
    "### Healthcare: Quantifying the cost of delivering health care.\n",
    "* https://www1.aucegypt.edu/faculty/hadi/RABE5/#Download"
   ]
  }
 ],
 "metadata": {
  "kernelspec": {
   "display_name": "carlos_zaragoza",
   "language": "python",
   "name": "python3"
  },
  "language_info": {
   "codemirror_mode": {
    "name": "ipython",
    "version": 3
   },
   "file_extension": ".py",
   "mimetype": "text/x-python",
   "name": "python",
   "nbconvert_exporter": "python",
   "pygments_lexer": "ipython3",
   "version": "3.7.15 (default, Nov 24 2022, 18:44:54) [MSC v.1916 64 bit (AMD64)]"
  },
  "orig_nbformat": 4,
  "vscode": {
   "interpreter": {
    "hash": "b0616232e8b22e256bf17c2f8d850fd06efbe19eef8e6dd172f7adb4538b305c"
   }
  }
 },
 "nbformat": 4,
 "nbformat_minor": 2
}
