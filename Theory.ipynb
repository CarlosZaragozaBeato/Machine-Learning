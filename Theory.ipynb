{
 "cells": [
  {
   "attachments": {
    "024fbc0e-dcf4-4598-b981-8c762a75fca8.png": {
     "image/png": "[encoded data removed]"
    }
   },
   "cell_type": "markdown",
   "id": "34470a0b-8db7-4768-8ce0-a2f9b16c41a8",
   "metadata": {},
   "source": [
    "# Theory\n",
    "\n",
    "Logistic Regression is a statistical technique used for classification tasks. It is used to predict the probability of an event ocurring based on one or more predictor variables. In machine learning, logistic regression is often used to predict a binary outcome, such as yes/no response or a 0/1 label.\n",
    "\n",
    "Here is how logistic regression works:\n",
    "\n",
    "* The model is trained on a labeled dataset, where the goal is to predict a bìnary outcome base on the values of the predictor values\n",
    "\n",
    "* The models estimates the probability that the event will occurs, using a logistic function that maps the predictor variables to a probability between 0 and 1.\n",
    "\n",
    "* The model makes a prediction based on a decision threshold. For example, if the probability of the event ocurring is greater than 05, the model might predict that the event will occur(e.g a \"yes\" response), while if the probability is less than 0.5, the model might predict that the event will now occur(e.g. a \"no\" response).\n",
    "\n",
    "One advantage of logistic regression is that it is a relatively simple and efficient algorithm, and it is easy to interpret the result. It can be used for both linear and non-linear classification, depending on the choice of the solver and the regularization strength.\n",
    "\n",
    "These are also several variations of logistic regression that can be used for more specialized tasks, suchs as multinomial logistic regression (for predicting a categorical outcine with more than two classes) and ordinal logistic regression(for predicting an ordinal outcome, where the classes have a meaningfull order).\n",
    "\n",
    "![lregression.png](attachment:024fbc0e-dcf4-4598-b981-8c762a75fca8.png)\n"
   ]
  },
  {
   "cell_type": "markdown",
   "id": "28d1e5fd-a594-4d1c-89a1-1e7a73439361",
   "metadata": {},
   "source": [
    "## Scikit-learn\n",
    "\n",
    "Logistic Regression is implemented as a linear model that predicts the probability of a binary outcome. It is used to model tthe relathionship between a dependent variable and cone or more independent variables by fitting a logistic curve to the data.\n",
    "\n",
    "Here is a general outline of the steps for using logistic regression in scikit-learn:\n",
    "\n",
    "* Load The data: You will need to load your data into a Numpy array or pandas DataFrame.\n",
    "\n",
    "* Preprocess the data: You may need to clean and transform the data before fitting the model. Theis may include tasks such as imputing missing values, encoding categorical variables, and scalling the features.\n",
    "\n",
    "* Splitt the data into training and test sets: You will need to split the data into a training set and a test set in order to evaluate the performance of the model.\n",
    "\n",
    "* Train the model: Use the training data to fit a logistic regression model using the 'LogisticRegression' class. You will need to specify hyperparameters, such as the regularization strength and the solver to use.\n",
    "\n",
    "* Make predictions: Use the trained model to make predictions on the test data.\n",
    "\n",
    "* Evaluate the model: Use metrics such as accuracy, precision, and recall to assess the performance of the model.\n",
    "\n",
    "Here is an example of how you might use logistic regression in scikit-learn to fit a model a make predictions:\n"
   ]
  },
  {
   "cell_type": "code",
   "execution_count": 32,
   "id": "52ddf636-da73-410b-bf65-386b712378c5",
   "metadata": {},
   "outputs": [],
   "source": [
    "from sklearn.linear_model import LogisticRegression\n",
    "from sklearn.model_selection import train_test_split\n",
    "from sklearn.datasets import load_breast_cancer\n",
    "import pandas as pd"
   ]
  },
  {
   "cell_type": "code",
   "execution_count": 33,
   "id": "520bbdd8-b1ec-4d2f-81f4-01fd9ea3a580",
   "metadata": {},
   "outputs": [],
   "source": [
    "data = load_breast_cancer()\n",
    "dataset = pd.DataFrame(data=data['data'], columns=data['feature_names'])"
   ]
  },
  {
   "cell_type": "code",
   "execution_count": 40,
   "id": "d20a5861-e3c6-41aa-8e13-d4c2f7a57ba2",
   "metadata": {},
   "outputs": [],
   "source": [
    "x = dataset.copy()\n",
    "y = data['target']"
   ]
  },
  {
   "cell_type": "code",
   "execution_count": 41,
   "id": "0729cdd8-ef7a-47f7-b1cb-fc5210128b37",
   "metadata": {},
   "outputs": [
    {
     "data": {
      "text/plain": [
       "(569, 30)"
      ]
     },
     "execution_count": 41,
     "metadata": {},
     "output_type": "execute_result"
    }
   ],
   "source": [
    "x.shape"
   ]
  },
  {
   "cell_type": "code",
   "execution_count": 19,
   "id": "27e53582-0dc4-4d6a-baac-d4278f8b8bf9",
   "metadata": {},
   "outputs": [
    {
     "data": {
      "text/plain": [
       "(569,)"
      ]
     },
     "execution_count": 19,
     "metadata": {},
     "output_type": "execute_result"
    }
   ],
   "source": [
    "y.shape"
   ]
  },
  {
   "cell_type": "code",
   "execution_count": 42,
   "id": "9f9d1ef9-0be4-4019-ad48-093662f3179f",
   "metadata": {},
   "outputs": [],
   "source": [
    "x_train, x_test, y_train, y_test = train_test_split(x,y,test_size=.2)"
   ]
  },
  {
   "cell_type": "code",
   "execution_count": 78,
   "id": "987a4f20-9bc1-4316-bf62-fb87fe376d45",
   "metadata": {},
   "outputs": [],
   "source": [
    "model = LogisticRegression(C=1.0, solver='lbfgs', max_iter=209)"
   ]
  },
  {
   "cell_type": "code",
   "execution_count": 79,
   "id": "ffc92279-ce3a-4db3-b800-3964d1c53717",
   "metadata": {},
   "outputs": [
    {
     "data": {
      "text/plain": [
       "LogisticRegression(max_iter=209)"
      ]
     },
     "execution_count": 79,
     "metadata": {},
     "output_type": "execute_result"
    }
   ],
   "source": [
    "model.fit(x_train, y_train)"
   ]
  },
  {
   "cell_type": "code",
   "execution_count": 87,
   "id": "f686fe5d-ef23-43dd-b86d-9252b56eadbe",
   "metadata": {},
   "outputs": [],
   "source": [
    "y_pred = model.predict(x_test)"
   ]
  },
  {
   "cell_type": "code",
   "execution_count": 88,
   "id": "7efe3174-4ad1-4bf5-9d17-1864541f7c3b",
   "metadata": {},
   "outputs": [],
   "source": [
    "accuracy = model.score(x_test, y_test)"
   ]
  },
  {
   "cell_type": "code",
   "execution_count": 89,
   "id": "ae3846a0-9337-4e71-a266-c42b27626362",
   "metadata": {},
   "outputs": [
    {
     "data": {
      "text/plain": [
       "'Test accuracy: 0.95'"
      ]
     },
     "execution_count": 89,
     "metadata": {},
     "output_type": "execute_result"
    }
   ],
   "source": [
    "f\"Test accuracy: {accuracy:.2f}\""
   ]
  },
  {
   "cell_type": "code",
   "execution_count": null,
   "id": "0babc05f-8ee3-4572-931c-4991377bb0fa",
   "metadata": {},
   "outputs": [],
   "source": []
  }
 ],
 "metadata": {
  "kernelspec": {
   "display_name": "Python 3 (ipykernel)",
   "language": "python",
   "name": "python3"
  },
  "language_info": {
   "codemirror_mode": {
    "name": "ipython",
    "version": 3
   },
   "file_extension": ".py",
   "mimetype": "text/x-python",
   "name": "python",
   "nbconvert_exporter": "python",
   "pygments_lexer": "ipython3",
   "version": "3.9.13"
  }
 },
 "nbformat": 4,
 "nbformat_minor": 5
}
